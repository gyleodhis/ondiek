{
 "cells": [
  {
   "cell_type": "code",
   "execution_count": 1,
   "id": "09698734",
   "metadata": {},
   "outputs": [
    {
     "name": "stdout",
     "output_type": "stream",
     "text": [
      "Directory 'C:\\Users\\gyleo\\OndiekApps' already exists\n"
     ]
    }
   ],
   "source": [
    "import shutil\n",
    "import os\n",
    "from src.utils.config import ondiek_main_dir\n",
    "\n",
    "home_dir = os.path.expanduser('~')\n",
    "ondiek_dir = ondiek_main_dir\n",
    "ondiek_path = os.path.join(home_dir, ondiek_dir)\n",
    "app_name = 'MyfirstApp'\n",
    "base_dir = './src'\n",
    "\n",
    "def create_main_dir():\n",
    "    isExist = os.path.exists(ondiek_path)\n",
    "    try:\n",
    "        if isExist:\n",
    "            return print(\"Directory '%s' already exists\" % ondiek_path)\n",
    "        elif not isExist:\n",
    "            os.makedirs(ondiek_path,exist_ok = False)\n",
    "            return print(\"Directory '%s' created successfuly\" % ondiek_path)\n",
    "    except OSError as error:\n",
    "        return print(\"Directory '%s' can not be created\" % ondiek_path)\n",
    "create_main_dir()"
   ]
  },
  {
   "cell_type": "code",
   "execution_count": null,
   "id": "e7cd7e2d",
   "metadata": {},
   "outputs": [],
   "source": []
  },
  {
   "cell_type": "code",
   "execution_count": 2,
   "id": "2a705e11",
   "metadata": {},
   "outputs": [
    {
     "name": "stdout",
     "output_type": "stream",
     "text": [
      "Application: 'kistui' already exists\n"
     ]
    }
   ],
   "source": [
    "def create_base_app(app = app_name):\n",
    "    global app_path\n",
    "    app_path = os.path.join(ondiek_path, app)\n",
    "    isExist = os.path.exists(app_path)\n",
    "    try:\n",
    "        if isExist:\n",
    "            print(\"Application: '%s' already exists\" % app)\n",
    "        elif not isExist:\n",
    "            shutil.copytree(base_dir, app_path)\n",
    "            print(\"Application: '%s' created successfuly\" % app)\n",
    "            print(\"App location: '%s'\" % app_path)\n",
    "    except OSError as error:\n",
    "        print(\"Directory '%s' can not be created\" % app_path)\n",
    "create_base_app('kistui')"
   ]
  },
  {
   "cell_type": "code",
   "execution_count": 3,
   "id": "8e38c0e8",
   "metadata": {},
   "outputs": [],
   "source": [
    "# create_base_app('rabala')"
   ]
  },
  {
   "cell_type": "code",
   "execution_count": 4,
   "id": "c6da2330",
   "metadata": {},
   "outputs": [],
   "source": [
    "# app_path = os.path.join(ondiek_path, app_name)\n",
    "# os.getcwd()"
   ]
  },
  {
   "cell_type": "code",
   "execution_count": 5,
   "id": "74110d63",
   "metadata": {},
   "outputs": [],
   "source": [
    "# os.chdir(app_path)\n",
    "# os.getcwd()"
   ]
  },
  {
   "cell_type": "code",
   "execution_count": null,
   "id": "f0061988",
   "metadata": {
    "scrolled": true
   },
   "outputs": [
    {
     "name": "stdout",
     "output_type": "stream",
     "text": [
      "E:\\PythonProjects\\ondiek\n",
      "C:\\Users\\gyleo\\OndiekApps\\kistui\n",
      "Downloading data from Worldbank (Apprx 2 Mins)...\n",
      "Perfect we have the data now ...\n",
      "Dash is running on http://0.0.0.0:5050/\n",
      "\n",
      " * Serving Flask app 'index' (lazy loading)\n",
      " * Environment: production\n",
      "\u001b[31m   WARNING: This is a development server. Do not use it in a production deployment.\u001b[0m\n",
      "\u001b[2m   Use a production WSGI server instead.\u001b[0m\n",
      " * Debug mode: off\n"
     ]
    },
    {
     "name": "stderr",
     "output_type": "stream",
     "text": [
      " * Running on all addresses.\n",
      "   WARNING: This is a development server. Do not use it in a production deployment.\n",
      " * Running on http://192.168.8.130:5050/ (Press CTRL+C to quit)\n",
      "192.168.8.130 - - [17/Apr/2023 17:35:45] \"GET / HTTP/1.1\" 200 -\n",
      "192.168.8.130 - - [17/Apr/2023 17:35:45] \"GET /assets/css/adminlte.min.css?m=1680882824.2784643 HTTP/1.1\" 304 -\n",
      "192.168.8.130 - - [17/Apr/2023 17:35:45] \"GET /assets/fontawesome-free/css/all.css?m=1680882824.2804592 HTTP/1.1\" 304 -\n",
      "192.168.8.130 - - [17/Apr/2023 17:35:45] \"GET /assets/fontawesome-free/css/all.min.css?m=1680882824.2804592 HTTP/1.1\" 304 -\n",
      "192.168.8.130 - - [17/Apr/2023 17:35:45] \"GET /assets/fontawesome-free/css/brands.css?m=1680882824.2815928 HTTP/1.1\" 304 -\n",
      "192.168.8.130 - - [17/Apr/2023 17:35:45] \"GET /assets/fontawesome-free/css/brands.min.css?m=1680882824.2815928 HTTP/1.1\" 304 -\n",
      "192.168.8.130 - - [17/Apr/2023 17:35:45] \"GET /assets/fontawesome-free/css/fontawesome.min.css?m=1680882824.2836158 HTTP/1.1\" 304 -\n",
      "192.168.8.130 - - [17/Apr/2023 17:35:45] \"GET /assets/fontawesome-free/css/regular.css?m=1680882824.2846134 HTTP/1.1\" 304 -\n",
      "192.168.8.130 - - [17/Apr/2023 17:35:45] \"GET /assets/fontawesome-free/css/fontawesome.css?m=1680882824.282617 HTTP/1.1\" 304 -\n",
      "192.168.8.130 - - [17/Apr/2023 17:35:45] \"GET /assets/fontawesome-free/css/regular.min.css?m=1680882824.285624 HTTP/1.1\" 304 -\n",
      "192.168.8.130 - - [17/Apr/2023 17:35:45] \"GET /assets/fontawesome-free/css/solid.css?m=1680882824.2868228 HTTP/1.1\" 304 -\n",
      "192.168.8.130 - - [17/Apr/2023 17:35:45] \"GET /assets/fontawesome-free/css/solid.min.css?m=1680882824.2878535 HTTP/1.1\" 304 -\n",
      "192.168.8.130 - - [17/Apr/2023 17:35:45] \"GET /assets/fontawesome-free/css/svg-with-js.css?m=1680882824.2878535 HTTP/1.1\" 304 -\n",
      "192.168.8.130 - - [17/Apr/2023 17:35:45] \"GET /assets/fontawesome-free/css/svg-with-js.min.css?m=1680882824.288851 HTTP/1.1\" 304 -\n",
      "192.168.8.130 - - [17/Apr/2023 17:35:45] \"GET /assets/fontawesome-free/css/v4-shims.css?m=1680882824.28985 HTTP/1.1\" 304 -\n",
      "192.168.8.130 - - [17/Apr/2023 17:35:45] \"GET /assets/fontawesome-free/css/v4-shims.min.css?m=1680882824.2908523 HTTP/1.1\" 304 -\n",
      "192.168.8.130 - - [17/Apr/2023 17:35:46] \"GET /assets/1_jquery/3_adminlte.js?m=1680882824.2734632 HTTP/1.1\" 304 -\n",
      "192.168.8.130 - - [17/Apr/2023 17:35:46] \"GET /assets/1_jquery/2_bootstrap.bundle.min.js?m=1680882824.2724652 HTTP/1.1\" 304 -\n",
      "192.168.8.130 - - [17/Apr/2023 17:35:46] \"GET /assets/1_jquery/1_jquery.min.js?m=1680882824.2714639 HTTP/1.1\" 304 -\n",
      "192.168.8.130 - - [17/Apr/2023 17:35:46] \"GET /_dash-layout HTTP/1.1\" 200 -\n",
      "192.168.8.130 - - [17/Apr/2023 17:35:46] \"GET /_dash-dependencies HTTP/1.1\" 200 -\n",
      "192.168.8.130 - - [17/Apr/2023 17:35:46] \"GET /_favicon.ico?v=2.8.1 HTTP/1.1\" 200 -\n",
      "192.168.8.130 - - [17/Apr/2023 17:35:46] \"GET /assets/img/logo.png HTTP/1.1\" 304 -\n",
      "192.168.8.130 - - [17/Apr/2023 17:35:46] \"POST /_dash-update-component HTTP/1.1\" 200 -\n",
      "192.168.8.130 - - [17/Apr/2023 17:35:46] \"GET /assets/fontawesome-free/webfonts/fa-solid-900.woff2 HTTP/1.1\" 304 -\n",
      "192.168.8.130 - - [17/Apr/2023 17:35:46] \"GET /_dash-component-suites/dash/dcc/async-graph.js HTTP/1.1\" 200 -\n",
      "192.168.8.130 - - [17/Apr/2023 17:35:46] \"GET /_dash-component-suites/dash/dcc/async-plotlyjs.js HTTP/1.1\" 200 -\n"
     ]
    }
   ],
   "source": [
    "def launcher():\n",
    "    print(os.getcwd())\n",
    "    os.chdir(app_path)\n",
    "    print(os.getcwd())\n",
    "    import index.py as main\n",
    "    return main\n",
    "launcher()"
   ]
  },
  {
   "cell_type": "code",
   "execution_count": null,
   "id": "811c7fba",
   "metadata": {},
   "outputs": [],
   "source": []
  }
 ],
 "metadata": {
  "kernelspec": {
   "display_name": "Python 3 (ipykernel)",
   "language": "python",
   "name": "python3"
  },
  "language_info": {
   "codemirror_mode": {
    "name": "ipython",
    "version": 3
   },
   "file_extension": ".py",
   "mimetype": "text/x-python",
   "name": "python",
   "nbconvert_exporter": "python",
   "pygments_lexer": "ipython3",
   "version": "3.9.7"
  }
 },
 "nbformat": 4,
 "nbformat_minor": 5
}
