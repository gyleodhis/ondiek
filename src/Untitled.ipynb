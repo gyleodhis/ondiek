{
 "cells": [
  {
   "cell_type": "code",
   "execution_count": 1,
   "id": "92e8062e",
   "metadata": {},
   "outputs": [
    {
     "name": "stdout",
     "output_type": "stream",
     "text": [
      "Downloading data from Worldbank (Apprx 2 Mins)...\n",
      "Perfect we have the data now ...\n",
      "Dash is running on http://0.0.0.0:5050/\n",
      "\n",
      " * Serving Flask app 'index' (lazy loading)\n",
      " * Environment: production\n",
      "\u001b[31m   WARNING: This is a development server. Do not use it in a production deployment.\u001b[0m\n",
      "\u001b[2m   Use a production WSGI server instead.\u001b[0m\n",
      " * Debug mode: off\n"
     ]
    },
    {
     "name": "stderr",
     "output_type": "stream",
     "text": [
      " * Running on all addresses.\n",
      "   WARNING: This is a development server. Do not use it in a production deployment.\n",
      " * Running on http://192.168.8.130:5050/ (Press CTRL+C to quit)\n",
      "192.168.8.130 - - [17/Apr/2023 14:55:36] \"GET / HTTP/1.1\" 200 -\n",
      "192.168.8.130 - - [17/Apr/2023 14:55:36] \"GET /assets/fontawesome-free/css/all.css?m=1680882824.2804592 HTTP/1.1\" 304 -\n",
      "192.168.8.130 - - [17/Apr/2023 14:55:36] \"GET /assets/css/adminlte.min.css?m=1680882824.2784643 HTTP/1.1\" 304 -\n",
      "192.168.8.130 - - [17/Apr/2023 14:55:36] \"GET /assets/fontawesome-free/css/brands.css?m=1680882824.2815928 HTTP/1.1\" 304 -\n",
      "192.168.8.130 - - [17/Apr/2023 14:55:36] \"GET /assets/fontawesome-free/css/all.min.css?m=1680882824.2804592 HTTP/1.1\" 304 -\n",
      "192.168.8.130 - - [17/Apr/2023 14:55:36] \"GET /assets/fontawesome-free/css/brands.min.css?m=1680882824.2815928 HTTP/1.1\" 304 -\n",
      "192.168.8.130 - - [17/Apr/2023 14:55:36] \"GET /assets/fontawesome-free/css/fontawesome.css?m=1680882824.282617 HTTP/1.1\" 304 -\n",
      "192.168.8.130 - - [17/Apr/2023 14:55:36] \"GET /assets/fontawesome-free/css/fontawesome.min.css?m=1680882824.2836158 HTTP/1.1\" 304 -\n",
      "192.168.8.130 - - [17/Apr/2023 14:55:36] \"GET /assets/fontawesome-free/css/regular.css?m=1680882824.2846134 HTTP/1.1\" 304 -\n",
      "192.168.8.130 - - [17/Apr/2023 14:55:36] \"GET /assets/fontawesome-free/css/solid.css?m=1680882824.2868228 HTTP/1.1\" 304 -\n",
      "192.168.8.130 - - [17/Apr/2023 14:55:36] \"GET /assets/fontawesome-free/css/regular.min.css?m=1680882824.285624 HTTP/1.1\" 304 -\n",
      "192.168.8.130 - - [17/Apr/2023 14:55:36] \"GET /assets/fontawesome-free/css/solid.min.css?m=1680882824.2878535 HTTP/1.1\" 304 -\n",
      "192.168.8.130 - - [17/Apr/2023 14:55:36] \"GET /assets/fontawesome-free/css/svg-with-js.css?m=1680882824.2878535 HTTP/1.1\" 304 -\n",
      "192.168.8.130 - - [17/Apr/2023 14:55:36] \"GET /assets/fontawesome-free/css/svg-with-js.min.css?m=1680882824.288851 HTTP/1.1\" 304 -\n",
      "192.168.8.130 - - [17/Apr/2023 14:55:37] \"GET /assets/fontawesome-free/css/v4-shims.css?m=1680882824.28985 HTTP/1.1\" 304 -\n",
      "192.168.8.130 - - [17/Apr/2023 14:55:37] \"GET /assets/fontawesome-free/css/v4-shims.min.css?m=1680882824.2908523 HTTP/1.1\" 304 -\n",
      "192.168.8.130 - - [17/Apr/2023 14:55:37] \"GET /assets/1_jquery/3_adminlte.js?m=1680882824.2734632 HTTP/1.1\" 304 -\n",
      "192.168.8.130 - - [17/Apr/2023 14:55:37] \"GET /assets/1_jquery/1_jquery.min.js?m=1680882824.2714639 HTTP/1.1\" 304 -\n",
      "192.168.8.130 - - [17/Apr/2023 14:55:37] \"GET /assets/1_jquery/2_bootstrap.bundle.min.js?m=1680882824.2724652 HTTP/1.1\" 304 -\n",
      "192.168.8.130 - - [17/Apr/2023 14:55:37] \"GET /_dash-layout HTTP/1.1\" 200 -\n",
      "192.168.8.130 - - [17/Apr/2023 14:55:37] \"GET /_dash-dependencies HTTP/1.1\" 200 -\n",
      "192.168.8.130 - - [17/Apr/2023 14:55:37] \"GET /_favicon.ico?v=2.8.1 HTTP/1.1\" 200 -\n",
      "192.168.8.130 - - [17/Apr/2023 14:55:37] \"GET /assets/img/logo.png HTTP/1.1\" 304 -\n",
      "192.168.8.130 - - [17/Apr/2023 14:55:37] \"POST /_dash-update-component HTTP/1.1\" 200 -\n",
      "192.168.8.130 - - [17/Apr/2023 14:55:37] \"GET /assets/fontawesome-free/webfonts/fa-solid-900.woff2 HTTP/1.1\" 304 -\n",
      "192.168.8.130 - - [17/Apr/2023 14:55:37] \"GET /_dash-component-suites/dash/dcc/async-graph.js HTTP/1.1\" 200 -\n",
      "192.168.8.130 - - [17/Apr/2023 14:55:37] \"GET /_dash-component-suites/dash/dcc/async-plotlyjs.js HTTP/1.1\" 200 -\n",
      "192.168.8.130 - - [17/Apr/2023 15:00:07] \"GET / HTTP/1.1\" 200 -\n",
      "192.168.8.130 - - [17/Apr/2023 15:00:07] \"GET /assets/css/adminlte.min.css?m=1680882824.2784643 HTTP/1.1\" 304 -\n",
      "192.168.8.130 - - [17/Apr/2023 15:00:07] \"GET /assets/fontawesome-free/css/all.css?m=1680882824.2804592 HTTP/1.1\" 304 -\n",
      "192.168.8.130 - - [17/Apr/2023 15:00:07] \"GET /assets/fontawesome-free/css/all.min.css?m=1680882824.2804592 HTTP/1.1\" 304 -\n",
      "192.168.8.130 - - [17/Apr/2023 15:00:07] \"GET /assets/fontawesome-free/css/brands.css?m=1680882824.2815928 HTTP/1.1\" 304 -\n",
      "192.168.8.130 - - [17/Apr/2023 15:00:07] \"GET /assets/fontawesome-free/css/brands.min.css?m=1680882824.2815928 HTTP/1.1\" 304 -\n",
      "192.168.8.130 - - [17/Apr/2023 15:00:07] \"GET /assets/fontawesome-free/css/fontawesome.css?m=1680882824.282617 HTTP/1.1\" 304 -\n",
      "192.168.8.130 - - [17/Apr/2023 15:00:07] \"GET /assets/fontawesome-free/css/fontawesome.min.css?m=1680882824.2836158 HTTP/1.1\" 304 -\n",
      "192.168.8.130 - - [17/Apr/2023 15:00:07] \"GET /assets/fontawesome-free/css/regular.css?m=1680882824.2846134 HTTP/1.1\" 304 -\n",
      "192.168.8.130 - - [17/Apr/2023 15:00:07] \"GET /assets/fontawesome-free/css/regular.min.css?m=1680882824.285624 HTTP/1.1\" 304 -\n",
      "192.168.8.130 - - [17/Apr/2023 15:00:07] \"GET /assets/fontawesome-free/css/solid.css?m=1680882824.2868228 HTTP/1.1\" 304 -\n",
      "192.168.8.130 - - [17/Apr/2023 15:00:07] \"GET /assets/fontawesome-free/css/solid.min.css?m=1680882824.2878535 HTTP/1.1\" 304 -\n",
      "192.168.8.130 - - [17/Apr/2023 15:00:07] \"GET /assets/fontawesome-free/css/svg-with-js.css?m=1680882824.2878535 HTTP/1.1\" 304 -\n",
      "192.168.8.130 - - [17/Apr/2023 15:00:07] \"GET /assets/fontawesome-free/css/svg-with-js.min.css?m=1680882824.288851 HTTP/1.1\" 304 -\n",
      "192.168.8.130 - - [17/Apr/2023 15:00:07] \"GET /assets/fontawesome-free/css/v4-shims.css?m=1680882824.28985 HTTP/1.1\" 304 -\n",
      "192.168.8.130 - - [17/Apr/2023 15:00:07] \"GET /assets/fontawesome-free/css/v4-shims.min.css?m=1680882824.2908523 HTTP/1.1\" 304 -\n",
      "192.168.8.130 - - [17/Apr/2023 15:00:07] \"GET /assets/1_jquery/1_jquery.min.js?m=1680882824.2714639 HTTP/1.1\" 304 -\n",
      "192.168.8.130 - - [17/Apr/2023 15:00:07] \"GET /assets/1_jquery/2_bootstrap.bundle.min.js?m=1680882824.2724652 HTTP/1.1\" 304 -\n",
      "192.168.8.130 - - [17/Apr/2023 15:00:07] \"GET /assets/1_jquery/3_adminlte.js?m=1680882824.2734632 HTTP/1.1\" 304 -\n",
      "192.168.8.130 - - [17/Apr/2023 15:00:07] \"GET /_dash-layout HTTP/1.1\" 200 -\n",
      "192.168.8.130 - - [17/Apr/2023 15:00:07] \"GET /_dash-dependencies HTTP/1.1\" 200 -\n",
      "192.168.8.130 - - [17/Apr/2023 15:00:07] \"GET /_favicon.ico?v=2.8.1 HTTP/1.1\" 200 -\n",
      "192.168.8.130 - - [17/Apr/2023 15:00:07] \"GET /assets/img/logo.png HTTP/1.1\" 304 -\n",
      "192.168.8.130 - - [17/Apr/2023 15:00:07] \"POST /_dash-update-component HTTP/1.1\" 200 -\n",
      "192.168.8.130 - - [17/Apr/2023 15:00:08] \"GET /assets/fontawesome-free/webfonts/fa-solid-900.woff2 HTTP/1.1\" 304 -\n",
      "192.168.8.130 - - [17/Apr/2023 15:00:08] \"GET /_dash-component-suites/dash/dcc/async-graph.js HTTP/1.1\" 200 -\n",
      "192.168.8.130 - - [17/Apr/2023 15:00:08] \"GET /_dash-component-suites/dash/dcc/async-plotlyjs.js HTTP/1.1\" 200 -\n",
      "192.168.8.130 - - [17/Apr/2023 15:00:08] \"GET /_favicon.ico?v=2.8.1 HTTP/1.1\" 200 -\n"
     ]
    },
    {
     "data": {
      "text/plain": [
       "<module 'index' from 'E:\\\\PythonProjects\\\\ondiek\\\\src\\\\index.py'>"
      ]
     },
     "execution_count": 1,
     "metadata": {},
     "output_type": "execute_result"
    }
   ],
   "source": [
    "import index as idp\n",
    "idp"
   ]
  }
 ],
 "metadata": {
  "kernelspec": {
   "display_name": "Python 3 (ipykernel)",
   "language": "python",
   "name": "python3"
  },
  "language_info": {
   "codemirror_mode": {
    "name": "ipython",
    "version": 3
   },
   "file_extension": ".py",
   "mimetype": "text/x-python",
   "name": "python",
   "nbconvert_exporter": "python",
   "pygments_lexer": "ipython3",
   "version": "3.9.7"
  }
 },
 "nbformat": 4,
 "nbformat_minor": 5
}
